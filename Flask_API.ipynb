{
 "cells": [
  {
   "cell_type": "code",
   "execution_count": 5,
   "metadata": {},
   "outputs": [],
   "source": [
    "from flask import Flask , request ,jsonify,render_template\n",
    "import numpy as np\n",
    "import numpy\n",
    "import matplotlib.pyplot as plt\n",
    "import pickle\n",
    "from sklearn.externals import joblib\n",
    "import pandas as pd"
   ]
  },
  {
   "cell_type": "code",
   "execution_count": 6,
   "metadata": {
    "scrolled": true
   },
   "outputs": [],
   "source": [
    "from PIL import Image"
   ]
  },
  {
   "cell_type": "code",
   "execution_count": 7,
   "metadata": {},
   "outputs": [],
   "source": [
    "app = Flask(__name__)\n",
    "\n",
    "@app.route('/graph', methods = ['GET' , 'POST'])\n",
    "def func1():\n",
    "    #print(1)\n",
    "    city=request.form['city'] \n",
    "    #print(city)\n",
    "    year=int(request.form['year']) \n",
    "    chart=request.form['chart'] \n",
    "    data=pd.read_csv('sub_3.csv') \n",
    "    #print(city)\n",
    "    if city=='San Juan':\n",
    "        c='sj'\n",
    "    else:\n",
    "        c='iq'\n",
    "    ypred=data[(data['city']==c) & (data['year']==year) ]['total_cases'] \n",
    "    #print(ypred) \n",
    "    weekofyear=data[ (data['city']==c) & (data['year']==year)]['weekofyear'] \n",
    "    weekofyear=np.array(weekofyear)\n",
    "    ypred=np.array(ypred) \n",
    "    sort=np.argsort(weekofyear)\n",
    "    pred=[]\n",
    "    for i in sort:\n",
    "        pred.append(ypred[i]) \n",
    "    weekofyear=np.sort(weekofyear) \n",
    "    #pred=pred.tolist() \n",
    "    #print(pred)\n",
    "    weekofyear=weekofyear.tolist() \n",
    "    return render_template('graph.html',ypred=pred,weekofyear=weekofyear,chart=chart) \n",
    "\n",
    "@app.route('/prediction' , methods = ['GET' , 'POST'])\n",
    "def func2():\n",
    "    #content=request.json\n",
    "    #print('1')\n",
    "    year = int(request.form['year'])\n",
    "    weekofyear = int(request.form['weekofyear'])\n",
    "    city = request.form['city'] \n",
    "    #print('2')\n",
    "#     print(type(year))\n",
    "#     print(type(weekofyear))\n",
    "#     print(type(city)) \n",
    "#     sj_clf=joblib.load('sj_model.joblib')\n",
    "#     iq_clf=joblib.load('iq_model.joblib')\n",
    "    sj_data=pd.read_csv('sj_test.csv')\n",
    "    iq_data=pd.read_csv('iq_test.csv')\n",
    "    #print('3')\n",
    "    if city=='San Juan':\n",
    "        row=sj_data[(sj_data['year']==year) & (sj_data['weekofyear']==weekofyear)] \n",
    "        #print('1')\n",
    "        if row.empty:\n",
    "            print('oops')\n",
    "        #print(type(row)) \n",
    "        clf = joblib.load('sj_model.joblib') \n",
    "        #print(clf) \n",
    "        #print('5') \n",
    "        pred=clf.predict(row).round()[0].astype(int) \n",
    "        #print(type(pred)) \n",
    "    else :\n",
    "        row=iq_data[(iq_data['year']==year) & (iq_data['weekofyear']==weekofyear)] \n",
    "        clf = joblib.load('iq_model.joblib') \n",
    "        pred=clf.predict(row).round()[0].astype(int)  \n",
    "    #pred=str(pred)\n",
    "    #context={'prediction':pred}\n",
    "    return render_template('prediction.html',prediction=pred) \n",
    "    #return pred"
   ]
  },
  {
   "cell_type": "code",
   "execution_count": null,
   "metadata": {},
   "outputs": [],
   "source": []
  },
  {
   "cell_type": "code",
   "execution_count": null,
   "metadata": {},
   "outputs": [
    {
     "name": "stderr",
     "output_type": "stream",
     "text": [
      " * Running on http://192.168.43.126:5001/ (Press CTRL+C to quit)\n",
      "192.168.43.104 - - [24/Nov/2018 10:25:47] \"\u001b[37mPOST /prediction HTTP/1.1\u001b[0m\" 200 -\n",
      "192.168.43.104 - - [24/Nov/2018 10:25:47] \"\u001b[33mGET /code.jquery.com/jquery-3.0.0.js HTTP/1.1\u001b[0m\" 404 -\n",
      "192.168.43.104 - - [24/Nov/2018 10:25:47] \"\u001b[33mGET /code.jquery.com/jquery-migrate-3.0.1.js HTTP/1.1\u001b[0m\" 404 -\n",
      "192.168.43.104 - - [24/Nov/2018 10:25:47] \"\u001b[33mGET /predictpage.js HTTP/1.1\u001b[0m\" 404 -\n",
      "192.168.43.104 - - [24/Nov/2018 10:25:47] \"\u001b[33mGET /predictpage.js HTTP/1.1\u001b[0m\" 404 -\n",
      "192.168.43.104 - - [24/Nov/2018 10:25:47] \"\u001b[33mGET /assets/imgs/touch-icon-iphone.png HTTP/1.1\u001b[0m\" 404 -\n"
     ]
    }
   ],
   "source": [
    "if __name__ == '__main__':\n",
    "    app.run(host = \"192.168.43.126\" , port = 5001,debug=False) "
   ]
  },
  {
   "cell_type": "code",
   "execution_count": 9,
   "metadata": {},
   "outputs": [],
   "source": [
    "sj_clf=joblib.load('sj_model.joblib') "
   ]
  },
  {
   "cell_type": "code",
   "execution_count": null,
   "metadata": {},
   "outputs": [],
   "source": []
  }
 ],
 "metadata": {
  "kernelspec": {
   "display_name": "Python 3",
   "language": "python",
   "name": "python3"
  },
  "language_info": {
   "codemirror_mode": {
    "name": "ipython",
    "version": 3
   },
   "file_extension": ".py",
   "mimetype": "text/x-python",
   "name": "python",
   "nbconvert_exporter": "python",
   "pygments_lexer": "ipython3",
   "version": "3.6.4"
  }
 },
 "nbformat": 4,
 "nbformat_minor": 2
}
