{
 "cells": [
  {
   "cell_type": "code",
   "execution_count": 68,
   "metadata": {},
   "outputs": [],
   "source": [
    "import matplotlib.pyplot as plt\n",
    "import pandas \n",
    "import numpy \n",
    "import math\n",
    "from keras.models import Sequential\n",
    "from keras.layers import Dense,Dropout\n",
    "from keras.layers import LSTM\n",
    "from sklearn.preprocessing import MinMaxScaler\n",
    "from sklearn.metrics import mean_squared_error\n",
    "from keras import optimizers"
   ]
  },
  {
   "cell_type": "code",
   "execution_count": 69,
   "metadata": {},
   "outputs": [],
   "source": [
    "dataframe = pandas.read_csv('sj_test.csv',usecols=[4])  \n",
    "dataset = dataframe.values\n",
    "dataset = dataset.astype('float32') "
   ]
  },
  {
   "cell_type": "code",
   "execution_count": 70,
   "metadata": {},
   "outputs": [
    {
     "data": {
      "text/html": [
       "<div>\n",
       "<style scoped>\n",
       "    .dataframe tbody tr th:only-of-type {\n",
       "        vertical-align: middle;\n",
       "    }\n",
       "\n",
       "    .dataframe tbody tr th {\n",
       "        vertical-align: top;\n",
       "    }\n",
       "\n",
       "    .dataframe thead th {\n",
       "        text-align: right;\n",
       "    }\n",
       "</style>\n",
       "<table border=\"1\" class=\"dataframe\">\n",
       "  <thead>\n",
       "    <tr style=\"text-align: right;\">\n",
       "      <th></th>\n",
       "      <th>reanalysis_avg_temp_k</th>\n",
       "    </tr>\n",
       "  </thead>\n",
       "  <tbody>\n",
       "    <tr>\n",
       "      <th>0</th>\n",
       "      <td>-0.596823</td>\n",
       "    </tr>\n",
       "    <tr>\n",
       "      <th>1</th>\n",
       "      <td>-0.590959</td>\n",
       "    </tr>\n",
       "    <tr>\n",
       "      <th>2</th>\n",
       "      <td>0.065865</td>\n",
       "    </tr>\n",
       "    <tr>\n",
       "      <th>3</th>\n",
       "      <td>0.370819</td>\n",
       "    </tr>\n",
       "    <tr>\n",
       "      <th>4</th>\n",
       "      <td>0.323903</td>\n",
       "    </tr>\n",
       "  </tbody>\n",
       "</table>\n",
       "</div>"
      ],
      "text/plain": [
       "   reanalysis_avg_temp_k\n",
       "0              -0.596823\n",
       "1              -0.590959\n",
       "2               0.065865\n",
       "3               0.370819\n",
       "4               0.323903"
      ]
     },
     "execution_count": 70,
     "metadata": {},
     "output_type": "execute_result"
    }
   ],
   "source": [
    "dataframe.head() "
   ]
  },
  {
   "cell_type": "code",
   "execution_count": 71,
   "metadata": {},
   "outputs": [
    {
     "name": "stdout",
     "output_type": "stream",
     "text": [
      "182 78\n"
     ]
    }
   ],
   "source": [
    "train_size = int(len(dataset) * 0.70)\n",
    "test_size = len(dataset) - train_size\n",
    "train, test = dataset[0:train_size,:], dataset[train_size:len(dataset),:]\n",
    "print(len(train), len(test)) "
   ]
  },
  {
   "cell_type": "code",
   "execution_count": 72,
   "metadata": {},
   "outputs": [],
   "source": [
    "def create_dataset(dataset, look_back=1):\n",
    "\tdataX, dataY = [], []\n",
    "\tfor i in range(len(dataset)-look_back-1):\n",
    "\t\ta = dataset[i:(i+look_back), 0]\n",
    "\t\tdataX.append(a) \n",
    "\t\tdataY.append(dataset[i + look_back, 0])\n",
    "\treturn numpy.array(dataX), numpy.array(dataY) "
   ]
  },
  {
   "cell_type": "code",
   "execution_count": 73,
   "metadata": {},
   "outputs": [],
   "source": [
    "look_back = 3\n",
    "trainX, trainY = create_dataset(train, look_back)\n",
    "testX, testY = create_dataset(test, look_back) "
   ]
  },
  {
   "cell_type": "code",
   "execution_count": 74,
   "metadata": {},
   "outputs": [],
   "source": [
    "trainX = numpy.reshape(trainX, (trainX.shape[0], 1, trainX.shape[1]))\n",
    "testX = numpy.reshape(testX, (testX.shape[0], 1, testX.shape[1])) "
   ]
  },
  {
   "cell_type": "code",
   "execution_count": 75,
   "metadata": {},
   "outputs": [
    {
     "name": "stdout",
     "output_type": "stream",
     "text": [
      "Epoch 1/40\n",
      "178/178 [==============================] - 3s 15ms/step - loss: 1.0932\n",
      "Epoch 2/40\n",
      "178/178 [==============================] - 0s 415us/step - loss: 1.0668\n",
      "Epoch 3/40\n",
      "178/178 [==============================] - 0s 398us/step - loss: 1.0398\n",
      "Epoch 4/40\n",
      "178/178 [==============================] - 0s 426us/step - loss: 1.0131\n",
      "Epoch 5/40\n",
      "178/178 [==============================] - 0s 398us/step - loss: 0.9869\n",
      "Epoch 6/40\n",
      "178/178 [==============================] - 0s 415us/step - loss: 0.9622\n",
      "Epoch 7/40\n",
      "178/178 [==============================] - 0s 398us/step - loss: 0.9376\n",
      "Epoch 8/40\n",
      "178/178 [==============================] - 0s 409us/step - loss: 0.9144\n",
      "Epoch 9/40\n",
      "178/178 [==============================] - 0s 387us/step - loss: 0.8916\n",
      "Epoch 10/40\n",
      "178/178 [==============================] - 0s 364us/step - loss: 0.8703\n",
      "Epoch 11/40\n",
      "178/178 [==============================] - 0s 378us/step - loss: 0.8483\n",
      "Epoch 12/40\n",
      "178/178 [==============================] - 0s 398us/step - loss: 0.8285\n",
      "Epoch 13/40\n",
      "178/178 [==============================] - 0s 437us/step - loss: 0.8092\n",
      "Epoch 14/40\n",
      "178/178 [==============================] - 0s 431us/step - loss: 0.7898\n",
      "Epoch 15/40\n",
      "178/178 [==============================] - 0s 454us/step - loss: 0.7697\n",
      "Epoch 16/40\n",
      "178/178 [==============================] - 0s 476us/step - loss: 0.7500\n",
      "Epoch 17/40\n",
      "178/178 [==============================] - 0s 493us/step - loss: 0.7306\n",
      "Epoch 18/40\n",
      "178/178 [==============================] - 0s 521us/step - loss: 0.7116\n",
      "Epoch 19/40\n",
      "178/178 [==============================] - 0s 471us/step - loss: 0.6916\n",
      "Epoch 20/40\n",
      "178/178 [==============================] - 0s 437us/step - loss: 0.6722\n",
      "Epoch 21/40\n",
      "178/178 [==============================] - 0s 426us/step - loss: 0.6539\n",
      "Epoch 22/40\n",
      "178/178 [==============================] - 0s 426us/step - loss: 0.6355\n",
      "Epoch 23/40\n",
      "178/178 [==============================] - 0s 443us/step - loss: 0.6174\n",
      "Epoch 24/40\n",
      "178/178 [==============================] - 0s 437us/step - loss: 0.5992\n",
      "Epoch 25/40\n",
      "178/178 [==============================] - 0s 465us/step - loss: 0.5820\n",
      "Epoch 26/40\n",
      "178/178 [==============================] - 0s 443us/step - loss: 0.5649\n",
      "Epoch 27/40\n",
      "178/178 [==============================] - 0s 490us/step - loss: 0.5473\n",
      "Epoch 28/40\n",
      "178/178 [==============================] - 0s 457us/step - loss: 0.5310\n",
      "Epoch 29/40\n",
      "178/178 [==============================] - 0s 431us/step - loss: 0.5150\n",
      "Epoch 30/40\n",
      "178/178 [==============================] - 0s 491us/step - loss: 0.4994\n",
      "Epoch 31/40\n",
      "178/178 [==============================] - 0s 751us/step - loss: 0.4838\n",
      "Epoch 32/40\n",
      "178/178 [==============================] - 0s 796us/step - loss: 0.4698\n",
      "Epoch 33/40\n",
      "178/178 [==============================] - 0s 678us/step - loss: 0.4556\n",
      "Epoch 34/40\n",
      "178/178 [==============================] - 0s 471us/step - loss: 0.4430\n",
      "Epoch 35/40\n",
      "178/178 [==============================] - 0s 451us/step - loss: 0.4309\n",
      "Epoch 36/40\n",
      "178/178 [==============================] - 0s 434us/step - loss: 0.4191\n",
      "Epoch 37/40\n",
      "178/178 [==============================] - 0s 572us/step - loss: 0.4080\n",
      "Epoch 38/40\n",
      "178/178 [==============================] - 0s 779us/step - loss: 0.3967\n",
      "Epoch 39/40\n",
      "178/178 [==============================] - 0s 726us/step - loss: 0.3863\n",
      "Epoch 40/40\n",
      "178/178 [==============================] - 0s 426us/step - loss: 0.3767\n"
     ]
    },
    {
     "data": {
      "text/plain": [
       "<keras.callbacks.History at 0x2119a0d87f0>"
      ]
     },
     "execution_count": 75,
     "metadata": {},
     "output_type": "execute_result"
    }
   ],
   "source": [
    "model = Sequential()\n",
    "model.add(LSTM(4, input_shape=(1, look_back)))\n",
    "model.add(Dense(1))\n",
    "model.compile(loss='mean_squared_error', optimizer='adam')\n",
    "model.fit(trainX, trainY, epochs=40, batch_size=25) "
   ]
  },
  {
   "cell_type": "code",
   "execution_count": 76,
   "metadata": {},
   "outputs": [
    {
     "name": "stdout",
     "output_type": "stream",
     "text": [
      "Train Score: 0.61 RMSE\n",
      "Test Score: 0.62 RMSE\n"
     ]
    }
   ],
   "source": [
    "trainPredict = model.predict(trainX)\n",
    "testPredict = model.predict(testX) \n",
    "trainScore = math.sqrt(mean_squared_error(trainY, trainPredict[:,0])) \n",
    "print('Train Score: %.2f RMSE' % (trainScore))\n",
    "testScore = math.sqrt(mean_squared_error(testY, testPredict[:,0]))\n",
    "print('Test Score: %.2f RMSE' % (testScore)) "
   ]
  },
  {
   "cell_type": "code",
   "execution_count": 77,
   "metadata": {},
   "outputs": [
    {
     "name": "stdout",
     "output_type": "stream",
     "text": [
      "Train Score: 0.61 RMSE\n",
      "Test Score: 0.62 RMSE\n"
     ]
    },
    {
     "data": {
      "image/png": "[encoded data removed]",
      "text/plain": [
       "<Figure size 432x288 with 1 Axes>"
      ]
     },
     "metadata": {
      "needs_background": "light"
     },
     "output_type": "display_data"
    }
   ],
   "source": [
    "trainPredictPlot = numpy.empty_like(dataset)\n",
    "trainPredictPlot[:, :] = numpy.nan\n",
    "trainPredictPlot[look_back:len(trainPredict)+look_back, :] = trainPredict\n",
    "# shift test predictions for plotting\n",
    "testPredictPlot = numpy.empty_like(dataset)\n",
    "testPredictPlot[:, :] = numpy.nan\n",
    "testPredictPlot[len(trainPredict)+(look_back*2)+1:len(dataset)-1, :] = testPredict\n",
    "# plot baseline and predictions\n",
    "plt.plot(dataset)\n",
    "plt.plot(trainPredictPlot)\n",
    "plt.plot(testPredictPlot) \n",
    "print('Train Score: %.2f RMSE' % (trainScore)) \n",
    "print('Test Score: %.2f RMSE' % (testScore))\n",
    "plt.show() "
   ]
  },
  {
   "cell_type": "code",
   "execution_count": 78,
   "metadata": {},
   "outputs": [
    {
     "name": "stdout",
     "output_type": "stream",
     "text": [
      "Epoch 1/30\n",
      "178/178 [==============================] - 6s 34ms/step - loss: 0.9450\n",
      "Epoch 2/30\n",
      "178/178 [==============================] - 2s 13ms/step - loss: 0.8898\n",
      "Epoch 3/30\n",
      "178/178 [==============================] - 2s 14ms/step - loss: 0.8456\n",
      "Epoch 4/30\n",
      "178/178 [==============================] - 2s 13ms/step - loss: 0.7735\n",
      "Epoch 5/30\n",
      "178/178 [==============================] - 3s 14ms/step - loss: 0.6266\n",
      "Epoch 6/30\n",
      "178/178 [==============================] - 2s 14ms/step - loss: 0.4739\n",
      "Epoch 7/30\n",
      "178/178 [==============================] - 2s 14ms/step - loss: 0.4345\n",
      "Epoch 8/30\n",
      "178/178 [==============================] - 2s 14ms/step - loss: 0.3830\n",
      "Epoch 9/30\n",
      "178/178 [==============================] - 2s 14ms/step - loss: 0.4284\n",
      "Epoch 10/30\n",
      "178/178 [==============================] - 2s 13ms/step - loss: 0.4252\n",
      "Epoch 11/30\n",
      "178/178 [==============================] - 2s 13ms/step - loss: 0.4013\n",
      "Epoch 12/30\n",
      "178/178 [==============================] - 2s 14ms/step - loss: 0.4205\n",
      "Epoch 13/30\n",
      "178/178 [==============================] - 2s 13ms/step - loss: 0.3867\n",
      "Epoch 14/30\n",
      "178/178 [==============================] - 2s 13ms/step - loss: 0.3856\n",
      "Epoch 15/30\n",
      "178/178 [==============================] - 2s 14ms/step - loss: 0.3838\n",
      "Epoch 16/30\n",
      "178/178 [==============================] - 2s 13ms/step - loss: 0.3964\n",
      "Epoch 17/30\n",
      "178/178 [==============================] - 2s 13ms/step - loss: 0.3895\n",
      "Epoch 18/30\n",
      "178/178 [==============================] - 2s 13ms/step - loss: 0.3804\n",
      "Epoch 19/30\n",
      "178/178 [==============================] - 2s 13ms/step - loss: 0.3630\n",
      "Epoch 20/30\n",
      "178/178 [==============================] - 2s 14ms/step - loss: 0.3583\n",
      "Epoch 21/30\n",
      "178/178 [==============================] - 2s 13ms/step - loss: 0.3587\n",
      "Epoch 22/30\n",
      "178/178 [==============================] - 2s 13ms/step - loss: 0.3713\n",
      "Epoch 23/30\n",
      "178/178 [==============================] - 2s 13ms/step - loss: 0.3906\n",
      "Epoch 24/30\n",
      "178/178 [==============================] - 2s 13ms/step - loss: 0.3625\n",
      "Epoch 25/30\n",
      "178/178 [==============================] - 2s 13ms/step - loss: 0.3577\n",
      "Epoch 26/30\n",
      "178/178 [==============================] - 2s 13ms/step - loss: 0.3389\n",
      "Epoch 27/30\n",
      "178/178 [==============================] - 2s 13ms/step - loss: 0.3633\n",
      "Epoch 28/30\n",
      "178/178 [==============================] - 2s 13ms/step - loss: 0.3660: 0s \n",
      "Epoch 29/30\n",
      "178/178 [==============================] - 2s 14ms/step - loss: 0.3648\n",
      "Epoch 30/30\n",
      "178/178 [==============================] - 2s 13ms/step - loss: 0.3508\n"
     ]
    },
    {
     "data": {
      "text/plain": [
       "<keras.callbacks.History at 0x211930a6f98>"
      ]
     },
     "execution_count": 78,
     "metadata": {},
     "output_type": "execute_result"
    }
   ],
   "source": [
    "model1=Sequential() \n",
    "model1.add(LSTM(1000,input_shape=(1,look_back)))\n",
    "model1.add(Dense(12))\n",
    "model1.add(Dropout(0.2,input_shape=(look_back,)))\n",
    "model1.add(Dense(1000))\n",
    "model1.add(Dense(1)) \n",
    "sgd = optimizers.rmsprop(lr=0.005)\n",
    "model1.compile(loss='mean_absolute_error',optimizer='sgd')\n",
    "model1.fit(trainX,trainY,epochs=30,batch_size=4) "
   ]
  },
  {
   "cell_type": "code",
   "execution_count": 79,
   "metadata": {},
   "outputs": [
    {
     "name": "stdout",
     "output_type": "stream",
     "text": [
      "Train Score: 0.40 RMSE\n",
      "Test Score: 0.43 RMSE\n"
     ]
    }
   ],
   "source": [
    "trainPredict = model1.predict(trainX)\n",
    "testPredict = model1.predict(testX) \n",
    "trainScore = math.sqrt(mean_squared_error(trainY, trainPredict[:,0])) \n",
    "print('Train Score: %.2f RMSE' % (trainScore))\n",
    "testScore = math.sqrt(mean_squared_error(testY, testPredict[:,0]))\n",
    "print('Test Score: %.2f RMSE' % (testScore)) "
   ]
  },
  {
   "cell_type": "code",
   "execution_count": 80,
   "metadata": {},
   "outputs": [
    {
     "name": "stdout",
     "output_type": "stream",
     "text": [
      "Train Score: 0.40 RMSE\n",
      "Test Score: 0.43 RMSE\n"
     ]
    },
    {
     "data": {
      "image/png": "[encoded data removed]",
      "text/plain": [
       "<Figure size 432x288 with 1 Axes>"
      ]
     },
     "metadata": {
      "needs_background": "light"
     },
     "output_type": "display_data"
    }
   ],
   "source": [
    "trainPredictPlot = numpy.empty_like(dataset)\n",
    "trainPredictPlot[:, :] = numpy.nan\n",
    "trainPredictPlot[look_back:len(trainPredict)+look_back, :] = trainPredict\n",
    "testPredictPlot = numpy.empty_like(dataset)\n",
    "testPredictPlot[:, :] = numpy.nan\n",
    "testPredictPlot[len(trainPredict)+(look_back*2)+1:len(dataset)-1, :] = testPredict\n",
    "plt.plot(dataset)\n",
    "plt.plot(trainPredictPlot)\n",
    "plt.plot(testPredictPlot)\n",
    "print('Train Score: %.2f RMSE' % (trainScore))\n",
    "print('Test Score: %.2f RMSE' % (testScore)) \n",
    "plt.show() "
   ]
  },
  {
   "cell_type": "code",
   "execution_count": null,
   "metadata": {},
   "outputs": [],
   "source": []
  },
  {
   "cell_type": "code",
   "execution_count": null,
   "metadata": {},
   "outputs": [],
   "source": []
  },
  {
   "cell_type": "code",
   "execution_count": null,
   "metadata": {},
   "outputs": [],
   "source": []
  },
  {
   "cell_type": "code",
   "execution_count": null,
   "metadata": {},
   "outputs": [],
   "source": []
  }
 ],
 "metadata": {
  "kernelspec": {
   "display_name": "Python 3",
   "language": "python",
   "name": "python3"
  },
  "language_info": {
   "codemirror_mode": {
    "name": "ipython",
    "version": 3
   },
   "file_extension": ".py",
   "mimetype": "text/x-python",
   "name": "python",
   "nbconvert_exporter": "python",
   "pygments_lexer": "ipython3",
   "version": "3.6.4"
  }
 },
 "nbformat": 4,
 "nbformat_minor": 2
}
